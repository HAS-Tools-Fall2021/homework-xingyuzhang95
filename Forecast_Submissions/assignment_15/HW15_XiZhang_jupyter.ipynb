{
 "cells": [
  {
   "cell_type": "markdown",
   "id": "2f55a868",
   "metadata": {},
   "source": [
    "## Xingyu Zhang\n",
    "## Assignment 15\n",
    "## 12/06/2021"
   ]
  },
  {
   "cell_type": "markdown",
   "id": "830f1884",
   "metadata": {},
   "source": [
    "this iPython Notebook uses linear regression model to predict the next two weeks' streamflow at 09506000 base station.\n",
    "The results are 165, and 116 respectively."
   ]
  },
  {
   "cell_type": "markdown",
   "id": "29dcf015",
   "metadata": {},
   "source": [
    "   1.import package"
   ]
  },
  {
   "cell_type": "code",
   "execution_count": 6,
   "id": "dc94df9f-8373-46a9-85e9-bdaddf5c314a",
   "metadata": {},
   "outputs": [],
   "source": [
    "#%%\n",
    "### For Window's Users\n",
    "import os\n",
    "import pandas as pd\n",
    "import numpy as np\n",
    "import matplotlib.pyplot as plt\n",
    "import xarray as xr\n",
    "\n",
    "from sklearn.linear_model import LinearRegression\n",
    "\n",
    "\n",
    "\n",
    "# %%"
   ]
  },
  {
   "cell_type": "markdown",
   "id": "5f107745",
   "metadata": {},
   "source": [
    "2. import data and merge into one dataframe.\\\n",
    " The dataset I use are streamflow at 09506000 base station, NCEP reanalysis precipitation rate is station surrounding region.\\\n",
    " The temportal range of dataset are 01/01/2020 to 11/25/2021\n",
    " "
   ]
  },
  {
   "cell_type": "code",
   "execution_count": 7,
   "id": "27fdfdb7",
   "metadata": {},
   "outputs": [],
   "source": [
    "## Insert flow data\n",
    "flow_url = \"https://waterdata.usgs.gov/nwis/dv?cb_00060=on&format=rdb\" \\\n",
    "           \"&site_no=09506000&referred_module=sw\" \\\n",
    "           \"&period=&begin_date=2020-01-01&end_date=2021-12-05\"\n",
    "flow_data = pd.read_table(flow_url, sep='\\t', skiprows=30,\n",
    "                          names=['agency_cd', 'site_no', 'datetime', 'flow',\n",
    "                                 'code'], parse_dates=['datetime'],\n",
    "                          index_col=['datetime'])\n",
    "flow_data['month'] = pd.DatetimeIndex(flow_data.index).month\n",
    "flow_data['day'] = pd.DatetimeIndex(flow_data.index).day\n",
    "flow_data['year'] = pd.DatetimeIndex(flow_data.index).year"
   ]
  },
  {
   "cell_type": "code",
   "execution_count": 8,
   "id": "8676f43c",
   "metadata": {},
   "outputs": [
    {
     "name": "stdout",
     "output_type": "stream",
     "text": [
      "coefficient of determination: 0.22\n",
      "intercept: 125.81\n",
      "slope: [0.42 0.09]\n",
      " This week mean flow is  265.9\n",
      " This week mean flow is  246.5\n"
     ]
    }
   ],
   "source": [
    "\n",
    "flow_mean = flow_data.resample('W').mean()\n",
    "flow_mean['flow_tm1'] = flow_mean['flow'].shift(1)\n",
    "flow_mean['flow_tm2'] = flow_mean['flow'].shift(2)\n",
    "\n",
    "# Using the entire flow data\n",
    "train = flow_mean[2:][['flow', 'flow_tm1', 'flow_tm2']]\n",
    "\n",
    "\n",
    "\n",
    "# Build a linear regression model\n",
    "model = LinearRegression()\n",
    "x = train[['flow_tm1',  'flow_tm2']] \n",
    "y = train['flow'].values\n",
    "model.fit(x, y)\n",
    "\n",
    "# Results of the model\n",
    "r_sq = model.score(x, y)\n",
    "print('coefficient of determination:', np.round(r_sq, 2))\n",
    "\n",
    "# Print the intercept and the slope\n",
    "print('intercept:', np.round(model.intercept_, 2))\n",
    "print('slope:', np.round(model.coef_, 2))\n",
    "\n",
    "# Prediction\n",
    "prediction = model.predict(train[['flow_tm1', 'flow_tm2']])\n",
    "print(\" This week mean flow is \", round(prediction[0], 1))\n",
    "print(\" This week mean flow is \", round(prediction[1], 1))"
   ]
  }
 ],
 "metadata": {
  "interpreter": {
   "hash": "58eb651dd52986a5445087c4a645cf30d18124c531b5fa0b461e83b0e7c286c5"
  },
  "kernelspec": {
   "display_name": "Python 3.8.10 64-bit ('hastools': conda)",
   "name": "python3"
  },
  "language_info": {
   "codemirror_mode": {
    "name": "ipython",
    "version": 3
   },
   "file_extension": ".py",
   "mimetype": "text/x-python",
   "name": "python",
   "nbconvert_exporter": "python",
   "pygments_lexer": "ipython3",
   "version": "3.8.10"
  }
 },
 "nbformat": 4,
 "nbformat_minor": 5
}
